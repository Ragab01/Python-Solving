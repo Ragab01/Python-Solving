{
  "cells": [
    {
      "cell_type": "markdown",
      "metadata": {
        "id": "XrlhoR7N24dq"
      },
      "source": [
        "# Practice    \n",
        "# Enjoy^_^"
      ]
    },
    {
      "cell_type": "markdown",
      "metadata": {
        "id": "PTs0wAsf24dr"
      },
      "source": [
        "# Calculating Average of Numbers Using Functions"
      ]
    },
    {
      "cell_type": "code",
      "execution_count": null,
      "metadata": {
        "id": "Q39JYYxQ24dr",
        "outputId": "f7dd7729-b021-4907-d534-114c10caf67b"
      },
      "outputs": [
        {
          "name": "stdout",
          "output_type": "stream",
          "text": [
            "ragab\n"
          ]
        }
      ],
      "source": [
        "def calculate_average(list1):\n",
        "\n",
        "\n",
        "    total = sum(list1)\n",
        "    average = total / len(list1)\n",
        "\n",
        "    return average\n",
        "list1 = [1 , 5 ,3 ,4 ,5]\n",
        "print(calculate_average(list1))"
      ]
    },
    {
      "cell_type": "markdown",
      "metadata": {
        "id": "nziXXL3324ds"
      },
      "source": [
        "# Finding the Longest Word in a List"
      ]
    },
    {
      "cell_type": "code",
      "execution_count": null,
      "metadata": {
        "id": "oSTuvt4b24ds",
        "outputId": "970f5cff-2f17-426f-b594-be66ad402ba6"
      },
      "outputs": [
        {
          "name": "stdout",
          "output_type": "stream",
          "text": [
            "ragab\n"
          ]
        }
      ],
      "source": [
        "def max_word(string_list):\n",
        "    max=0\n",
        "    for string in string_list:\n",
        "        if len(string)>max:\n",
        "            max=len(string)\n",
        "            strr=string\n",
        "    return strr\n",
        "print(max_word([\"abdo\" , \"ragab\" , \"ras\"]))"
      ]
    },
    {
      "cell_type": "markdown",
      "metadata": {
        "id": "Z1EgMJ4E24ds"
      },
      "source": []
    },
    {
      "cell_type": "markdown",
      "metadata": {
        "id": "Z1IQ-Pf424dt"
      },
      "source": [
        "# Checking if a Number is Prime"
      ]
    },
    {
      "cell_type": "code",
      "execution_count": null,
      "metadata": {
        "id": "6zyxstHG24dt"
      },
      "outputs": [],
      "source": [
        "def is_prime(num):\n",
        "    if num <= 1:\n",
        "        return False\n",
        "    for i in range(2,num):\n",
        "        if num % i == 0:\n",
        "            return False\n",
        "    return True\n",
        "num = int(input())\n",
        "is_prime(num)"
      ]
    },
    {
      "cell_type": "markdown",
      "metadata": {
        "id": "rhGM7g7A24dt"
      },
      "source": []
    },
    {
      "cell_type": "markdown",
      "metadata": {
        "id": "AQ2m8vI024dt"
      },
      "source": [
        "# Converting Temperature Units"
      ]
    },
    {
      "cell_type": "code",
      "source": [
        "def TempUnit_Conv(Temp_inC , unit ):\n",
        "  if unit == \"Kelvin\":\n",
        "    Temp= Temp_inC + 273\n",
        "  else:\n",
        "    Temp = (Temp_inC * 9/5) + 32\n",
        "\n",
        "  return Temp\n",
        "\n",
        "print (TempUnit_Conv(27 , \"Kelvin\" ))\n",
        "print (TempUnit_Conv(27 , \"fahrenheit\" ))\n"
      ],
      "metadata": {
        "id": "_Hq7Zcrn3CNx",
        "colab": {
          "base_uri": "https://localhost:8080/"
        },
        "outputId": "809b56a8-9738-49f9-bf49-acb5eb6b7063"
      },
      "execution_count": null,
      "outputs": [
        {
          "output_type": "stream",
          "name": "stdout",
          "text": [
            "300\n",
            "80.6\n"
          ]
        }
      ]
    },
    {
      "cell_type": "markdown",
      "metadata": {
        "id": "P8kbwvUo24dt"
      },
      "source": [
        "# Generating a List of Squares Using List Comprehension and Functions"
      ]
    },
    {
      "cell_type": "code",
      "source": [
        "def generate_squares(start, end):\n",
        "  return [x**2 for x in range(start, end+1)]"
      ],
      "metadata": {
        "id": "H8snB5QF3DLQ"
      },
      "execution_count": null,
      "outputs": []
    },
    {
      "cell_type": "markdown",
      "metadata": {
        "id": "-uDDd05H24dt"
      },
      "source": [
        "# Converting a List of Strings to Uppercase"
      ]
    },
    {
      "cell_type": "code",
      "source": [
        "def StringToUpper(strings):\n",
        "    return [s.upper() for s in strings]\n",
        "bo=[\"abdo\", \"ragab\", \"body\",\"abdo\"]\n",
        "print(StringToUpper(bo))"
      ],
      "metadata": {
        "colab": {
          "base_uri": "https://localhost:8080/"
        },
        "id": "yVR8wHvNZVRB",
        "outputId": "c5bf700c-0c6c-4ee7-b840-a4fffa1eddff"
      },
      "execution_count": null,
      "outputs": [
        {
          "output_type": "stream",
          "name": "stdout",
          "text": [
            "Enter The Stringsabdo ragab mohamed\n",
            "['ABDO RAGAB MOHAMED']\n"
          ]
        }
      ]
    },
    {
      "cell_type": "markdown",
      "metadata": {
        "id": "-ydrsILS24dt"
      },
      "source": []
    },
    {
      "cell_type": "markdown",
      "metadata": {
        "id": "taX6cHyo24dt"
      },
      "source": [
        "# Calculating the Total Price Including Tax\n"
      ]
    },
    {
      "cell_type": "code",
      "source": [
        "def calculate_total_price(price, tax_rate):\n",
        "    total_price = price * (1 + tax_rate)\n",
        "    return total_price"
      ],
      "metadata": {
        "id": "5s0m_hCGzCsp"
      },
      "execution_count": null,
      "outputs": []
    },
    {
      "cell_type": "markdown",
      "metadata": {
        "id": "siMXldeb24dt"
      },
      "source": []
    },
    {
      "cell_type": "markdown",
      "metadata": {
        "id": "URD4lpt_24du"
      },
      "source": [
        "# Finding the Minimum and Maximum Values in a List"
      ]
    },
    {
      "cell_type": "code",
      "source": [
        "Copydef find_min_max(numbers):\n",
        "    return min(numbers), max(numbers)"
      ],
      "metadata": {
        "id": "CTYvB157zDN5"
      },
      "execution_count": null,
      "outputs": []
    },
    {
      "cell_type": "markdown",
      "metadata": {
        "id": "j2CcA9a024du"
      },
      "source": [
        "# Counting the Frequency of Each Character in a String"
      ]
    },
    {
      "cell_type": "code",
      "source": [
        "def count_char_frequency(string):\n",
        "    char_freq = {}\n",
        "    for char in string:\n",
        "        if char in char_freq:\n",
        "            char_freq[char] += 1\n",
        "        else:\n",
        "            char_freq[char] = 1\n",
        "    return char_freq"
      ],
      "metadata": {
        "id": "l-Zr66q0zEeB"
      },
      "execution_count": 1,
      "outputs": []
    },
    {
      "cell_type": "markdown",
      "metadata": {
        "id": "0n7QZXEo24du"
      },
      "source": []
    }
  ],
  "metadata": {
    "kernelspec": {
      "display_name": "Python 3",
      "language": "python",
      "name": "python3"
    },
    "language_info": {
      "codemirror_mode": {
        "name": "ipython",
        "version": 3
      },
      "file_extension": ".py",
      "mimetype": "text/x-python",
      "name": "python",
      "nbconvert_exporter": "python",
      "pygments_lexer": "ipython3",
      "version": "3.12.4"
    },
    "colab": {
      "provenance": []
    }
  },
  "nbformat": 4,
  "nbformat_minor": 0
}